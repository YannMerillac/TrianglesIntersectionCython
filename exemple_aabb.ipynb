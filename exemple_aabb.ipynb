{
 "cells": [
  {
   "cell_type": "code",
   "execution_count": 1,
   "id": "66fb0777",
   "metadata": {},
   "outputs": [],
   "source": [
    "import numpy as np\n",
    "import aabb_interface\n",
    "from triangle_intersection import py_triangle_triangle_intersection as triangles_intersection"
   ]
  },
  {
   "cell_type": "code",
   "execution_count": 2,
   "id": "22df9563",
   "metadata": {},
   "outputs": [
    {
     "name": "stdout",
     "output_type": "stream",
     "text": [
      "Reading 315 vertices...\n",
      "Reading 634 faces (only triangles will be stored)...\n",
      "Successfully loaded mesh from data/eight.off\n"
     ]
    }
   ],
   "source": [
    "# read mesh from off file\n",
    "vertices, triangles = aabb_interface.read_mesh_from_off(\"data/eight.off\")"
   ]
  },
  {
   "cell_type": "code",
   "execution_count": 3,
   "id": "340844ec",
   "metadata": {},
   "outputs": [
    {
     "name": "stdout",
     "output_type": "stream",
     "text": [
      "(315, 3)\n"
     ]
    }
   ],
   "source": [
    "print(vertices.shape)"
   ]
  },
  {
   "cell_type": "code",
   "execution_count": 4,
   "id": "ba8e5f8e",
   "metadata": {},
   "outputs": [
    {
     "name": "stdout",
     "output_type": "stream",
     "text": [
      "(634, 3)\n"
     ]
    }
   ],
   "source": [
    "print(triangles.shape)"
   ]
  },
  {
   "cell_type": "code",
   "execution_count": 5,
   "id": "b93a57e9",
   "metadata": {},
   "outputs": [],
   "source": [
    "aabb_tree = aabb_interface.AABBNode()\n",
    "aabb_tree.build_aabb_tree(vertices, triangles, 2)"
   ]
  },
  {
   "cell_type": "code",
   "execution_count": 6,
   "id": "3a38ebc2",
   "metadata": {},
   "outputs": [
    {
     "name": "stdout",
     "output_type": "stream",
     "text": [
      "[]\n",
      "<aabb_interface.AABBNode object at 0x74962038af90>\n"
     ]
    }
   ],
   "source": [
    "tri_indices = aabb_tree.get_triangle_indices()\n",
    "print(tri_indices)\n",
    "print(aabb_tree.get_left())"
   ]
  },
  {
   "cell_type": "code",
   "execution_count": 7,
   "id": "3d22f730",
   "metadata": {},
   "outputs": [
    {
     "data": {
      "text/plain": [
       "(array([-0.243695, -0.103765, -0.499314]),\n",
       " array([0.243695, 0.103828, 0.499314]))"
      ]
     },
     "execution_count": 7,
     "metadata": {},
     "output_type": "execute_result"
    }
   ],
   "source": [
    "aabb_tree.get_bbox()"
   ]
  },
  {
   "cell_type": "code",
   "execution_count": 8,
   "id": "c5d35178",
   "metadata": {},
   "outputs": [
    {
     "data": {
      "text/plain": [
       "(array([-0.243695, -0.103765, -0.499314]),\n",
       " array([0.242955, 0.103828, 0.045045]))"
      ]
     },
     "execution_count": 8,
     "metadata": {},
     "output_type": "execute_result"
    }
   ],
   "source": [
    "aabb_tree.get_left().get_bbox()"
   ]
  },
  {
   "cell_type": "code",
   "execution_count": 9,
   "id": "bfe572fd",
   "metadata": {},
   "outputs": [],
   "source": [
    "n = aabb_tree.get_left()"
   ]
  },
  {
   "cell_type": "code",
   "execution_count": 10,
   "id": "f766f238",
   "metadata": {},
   "outputs": [
    {
     "name": "stdout",
     "output_type": "stream",
     "text": [
      "(array([-0.243695, -0.077763, -0.499314]), array([ 0.242955,  0.077821, -0.141   ]))\n",
      "[]\n"
     ]
    }
   ],
   "source": [
    "n = n.get_left()\n",
    "print(n.get_bbox())\n",
    "print(n.get_triangle_indices())"
   ]
  },
  {
   "cell_type": "code",
   "execution_count": 11,
   "id": "c544121b",
   "metadata": {},
   "outputs": [
    {
     "name": "stdout",
     "output_type": "stream",
     "text": [
      "Reading 2027 vertices...\n",
      "Reading 4050 faces (only triangles will be stored)...\n",
      "Successfully loaded mesh from data/blobby.off\n"
     ]
    }
   ],
   "source": [
    "V, F = aabb_interface.read_mesh_from_off(\"data/blobby.off\")"
   ]
  },
  {
   "cell_type": "code",
   "execution_count": 12,
   "id": "be01721a",
   "metadata": {},
   "outputs": [
    {
     "name": "stdout",
     "output_type": "stream",
     "text": [
      "[[-0.0976748 -0.0658008  0.166048 ]\n",
      " [-0.156829  -0.0700418  0.146298 ]\n",
      " [-0.103323  -0.097917   0.154292 ]]\n"
     ]
    }
   ],
   "source": [
    "test_tri = 2098\n",
    "# test_tri = 1256\n",
    "node_indexes = F[test_tri]\n",
    "node_xyz = V[node_indexes, :]\n",
    "print(node_xyz)\n",
    "x_min, x_max = node_xyz[:, 0].min(), node_xyz[:, 0].max()\n",
    "y_min, y_max = node_xyz[:, 1].min(), node_xyz[:, 1].max()\n",
    "z_min, z_max = node_xyz[:, 2].min(), node_xyz[:, 2].max()\n",
    "\n",
    "test_bbox = np.array([x_min, y_min, z_min, x_max, y_max, z_max])"
   ]
  },
  {
   "cell_type": "code",
   "execution_count": 13,
   "id": "ae46362a",
   "metadata": {},
   "outputs": [
    {
     "data": {
      "text/plain": [
       "True"
      ]
     },
     "execution_count": 13,
     "metadata": {},
     "output_type": "execute_result"
    }
   ],
   "source": [
    "aabb_tree.bbox_intersect(test_bbox)\n",
    "aabb_tree.get_right().bbox_intersect(test_bbox)"
   ]
  },
  {
   "cell_type": "code",
   "execution_count": 14,
   "id": "163bef42",
   "metadata": {},
   "outputs": [],
   "source": [
    "def get_intersected_triangles(node, bbox):\n",
    "    if not node.bbox_intersect(bbox):\n",
    "        return []\n",
    "    left_node = node.get_left()\n",
    "    right_node = node.get_right()\n",
    "    if left_node is None and right_node is None:\n",
    "        return node.get_triangle_indices().tolist()\n",
    "    else:\n",
    "        return get_intersected_triangles(left_node, bbox) + get_intersected_triangles(right_node, bbox)\n"
   ]
  },
  {
   "cell_type": "code",
   "execution_count": 15,
   "id": "37a05a1c",
   "metadata": {},
   "outputs": [
    {
     "name": "stdout",
     "output_type": "stream",
     "text": [
      "[584, 591, 582, 589, 285, 590, 572, 588, 571, 574]\n"
     ]
    }
   ],
   "source": [
    "tri_indices = get_intersected_triangles(aabb_tree, test_bbox)\n",
    "print(tri_indices)"
   ]
  },
  {
   "cell_type": "code",
   "execution_count": 16,
   "id": "abb5c615",
   "metadata": {},
   "outputs": [
    {
     "name": "stdout",
     "output_type": "stream",
     "text": [
      "[[-0.0976748 -0.0658008  0.166048 ]\n",
      " [-0.156829  -0.0700418  0.146298 ]\n",
      " [-0.103323  -0.097917   0.154292 ]]\n"
     ]
    }
   ],
   "source": [
    "tri_xyz = V[F[test_tri, :], :]\n",
    "print(tri_xyz)"
   ]
  },
  {
   "cell_type": "code",
   "execution_count": 17,
   "id": "0487067d",
   "metadata": {},
   "outputs": [
    {
     "name": "stdout",
     "output_type": "stream",
     "text": [
      "*** 584 []\n",
      "*** 591 []\n",
      "*** 582 []\n",
      "*** 589 [[-0.13626948 -0.07818744  0.15016813]\n",
      " [-0.12544287 -0.07237193  0.15535135]]\n",
      "*** 285 []\n",
      "*** 590 [[-0.1461385  -0.07561127  0.1478952 ]\n",
      " [-0.13626948 -0.07818744  0.15016813]]\n",
      "*** 572 [[-0.11334021 -0.06692392  0.16081774]\n",
      " [-0.11736747 -0.07062625  0.15841065]]\n",
      "*** 588 [[-0.12544287 -0.07237193  0.15535135]\n",
      " [-0.11736747 -0.07062625  0.15841065]]\n",
      "*** 571 []\n",
      "*** 574 []\n"
     ]
    }
   ],
   "source": [
    "for i_tri in tri_indices:\n",
    "    inter_seg = triangles_intersection(tri_xyz, vertices[triangles[i_tri, :]])\n",
    "    print(\"***\", i_tri, inter_seg)"
   ]
  },
  {
   "cell_type": "code",
   "execution_count": 18,
   "id": "b0a357a0",
   "metadata": {},
   "outputs": [
    {
     "name": "stdout",
     "output_type": "stream",
     "text": [
      "Done! Found 303 segments\n"
     ]
    }
   ],
   "source": [
    "segments_list = []\n",
    "for i in range(F.shape[0]):\n",
    "    tri_xyz = V[F[i, :], :]\n",
    "    tri_bbox = np.array([tri_xyz[:, 0].min(), tri_xyz[:, 1].min(), tri_xyz[:, 2].min(),\n",
    "                          tri_xyz[:, 0].max(), tri_xyz[:, 1].max(), tri_xyz[:, 2].max()])\n",
    "    for j in get_intersected_triangles(aabb_tree, tri_bbox):\n",
    "        inter_seg = triangles_intersection(tri_xyz, vertices[triangles[j, :]])\n",
    "        if len(inter_seg) == 2:\n",
    "            segments_list.append((inter_seg[0, :], inter_seg[1, :]))\n",
    "\n",
    "print(f\"Done! Found {len(segments_list)} segments\")\n",
    "        \n",
    "    "
   ]
  },
  {
   "cell_type": "code",
   "execution_count": 19,
   "id": "2bb1e702",
   "metadata": {},
   "outputs": [
    {
     "data": {
      "text/plain": [
       "1"
      ]
     },
     "execution_count": 19,
     "metadata": {},
     "output_type": "execute_result"
    }
   ],
   "source": [
    "import vtk\n",
    "from vtk.util import numpy_support\n",
    "\n",
    "# 1.1. Obtenir les points uniques et le mapping\n",
    "all_points = np.unique(np.array([p for seg in segments_list for p in seg]), axis=0)\n",
    "point_to_index = {tuple(p): i for i, p in enumerate(all_points)}\n",
    "\n",
    "# --- 2. Création de vtkPoints ---\n",
    "# Convertir le tableau NumPy de points en un vtkDataArray\n",
    "vtk_points_data = numpy_support.numpy_to_vtk(all_points, deep=True)\n",
    "\n",
    "# Créer un objet vtkPoints et lui assigner les données\n",
    "vtk_points = vtk.vtkPoints()\n",
    "vtk_points.SetData(vtk_points_data)\n",
    "\n",
    "# --- 3. Création de vtkCellArray pour les lignes ---\n",
    "vtk_lines = vtk.vtkCellArray()\n",
    "\n",
    "# Insérer chaque segment comme une ligne (polyline) dans vtkCellArray\n",
    "for p1, p2 in segments_list:\n",
    "    idx1 = point_to_index[tuple(p1)]\n",
    "    idx2 = point_to_index[tuple(p2)]\n",
    "    \n",
    "    # Créer l'objet vtkLine et définir les indices des points\n",
    "    line = vtk.vtkLine()\n",
    "    line.GetPointIds().SetId(0, idx1) # Index du point de départ\n",
    "    line.GetPointIds().SetId(1, idx2) # Index du point de fin\n",
    "    \n",
    "    # Ajouter la ligne à vtkCellArray\n",
    "    vtk_lines.InsertNextCell(line)\n",
    "\n",
    "# --- 4. Création du maillage vtkPolyData ---\n",
    "polydata = vtk.vtkPolyData()\n",
    "polydata.SetPoints(vtk_points)\n",
    "polydata.SetLines(vtk_lines)\n",
    "\n",
    "# --- 5. Exportation en fichier VTK ---\n",
    "writer = vtk.vtkXMLPolyDataWriter()\n",
    "writer.SetFileName('intersection_polyline.vtp')\n",
    "writer.SetInputData(polydata)\n",
    "writer.Write()"
   ]
  },
  {
   "cell_type": "markdown",
   "id": "d15e4ca0",
   "metadata": {},
   "source": [
    "![title](image_result.png)"
   ]
  }
 ],
 "metadata": {
  "kernelspec": {
   "display_name": ".venv",
   "language": "python",
   "name": "python3"
  },
  "language_info": {
   "codemirror_mode": {
    "name": "ipython",
    "version": 3
   },
   "file_extension": ".py",
   "mimetype": "text/x-python",
   "name": "python",
   "nbconvert_exporter": "python",
   "pygments_lexer": "ipython3",
   "version": "3.11.11"
  }
 },
 "nbformat": 4,
 "nbformat_minor": 5
}
