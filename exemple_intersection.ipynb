{
 "cells": [
  {
   "cell_type": "code",
   "execution_count": 1,
   "id": "bfe1c316",
   "metadata": {},
   "outputs": [],
   "source": [
    "import numpy as np\n",
    "from triangle_intersection import py_segment_triangle_intersection, py_segment_triangle_intersection_grad"
   ]
  },
  {
   "cell_type": "code",
   "execution_count": 2,
   "id": "6cef77a1",
   "metadata": {},
   "outputs": [
    {
     "name": "stdout",
     "output_type": "stream",
     "text": [
      "True\n",
      "[0.2 0.2 0. ]\n"
     ]
    }
   ],
   "source": [
    "T1 = np.array([0., 0., 0.])\n",
    "T2 = np.array([1., 0., 0.])\n",
    "T3 = np.array([0., 1., 0.])\n",
    "S1 = np.array([0.2, 0.2, -1.0])\n",
    "S2 = np.array([0.2, 0.2, 1.0])\n",
    "\n",
    "intersect, I = py_segment_triangle_intersection(T1, T2, T3, S1, S2)\n",
    "print(intersect)\n",
    "print(I)\n"
   ]
  },
  {
   "cell_type": "code",
   "execution_count": 3,
   "id": "a5ef96ee",
   "metadata": {},
   "outputs": [
    {
     "name": "stdout",
     "output_type": "stream",
     "text": [
      "[[0.  0.  0.  0.  0.  0.  0.  0.  0.  0.5 0.  0.  0.5 0.  0. ]\n",
      " [0.  0.  0.  0.  0.  0.  0.  0.  0.  0.  0.5 0.  0.  0.5 0. ]\n",
      " [0.  0.  0.6 0.  0.  0.2 0.  0.  0.2 0.  0.  0.  0.  0.  0. ]]\n"
     ]
    }
   ],
   "source": [
    "n_dv = 15\n",
    "T1_grad = np.zeros((3, n_dv))\n",
    "T1_grad[0, 0] = 1.\n",
    "T1_grad[1, 1] = 1.\n",
    "T1_grad[2, 2] = 1.\n",
    "T2_grad = np.zeros((3, n_dv))\n",
    "T2_grad[0, 3] = 1.\n",
    "T2_grad[1, 4] = 1.\n",
    "T2_grad[2, 5] = 1.\n",
    "T3_grad = np.zeros((3, n_dv))\n",
    "T3_grad[0, 6] = 1.\n",
    "T3_grad[1, 7] = 1.\n",
    "T3_grad[2, 8] = 1.\n",
    "S1_grad = np.zeros((3, n_dv))\n",
    "S1_grad[0, 9] = 1.\n",
    "S1_grad[1, 10] = 1.\n",
    "S1_grad[2, 11] = 1.\n",
    "S2_grad = np.zeros((3, n_dv))\n",
    "S2_grad[0, 12] = 1.\n",
    "S2_grad[1, 13] = 1.\n",
    "S2_grad[2, 14] = 1.\n",
    "\n",
    "I_grad = py_segment_triangle_intersection_grad(T1, T2, T3, T1_grad, T2_grad, T3_grad, S1, S2, S1_grad, S2_grad)\n",
    "print(I_grad)\n",
    "\n",
    "\n"
   ]
  },
  {
   "cell_type": "code",
   "execution_count": 4,
   "id": "0c109f18",
   "metadata": {},
   "outputs": [],
   "source": [
    "def obj(x):\n",
    "    T1, T2, T3, S1, S2 = np.split(x, 5)\n",
    "    intersect, I = py_segment_triangle_intersection(T1, T2, T3, S1, S2)\n",
    "    if intersect:\n",
    "        return I\n",
    "    else:\n",
    "        return np.zeros(3)    "
   ]
  },
  {
   "cell_type": "code",
   "execution_count": 5,
   "id": "33bcdaa6",
   "metadata": {},
   "outputs": [
    {
     "name": "stdout",
     "output_type": "stream",
     "text": [
      "[0.2 0.2 0. ]\n"
     ]
    }
   ],
   "source": [
    "x0 = np.concatenate((T1, T2, T3, S1, S2))\n",
    "print(obj(x0))"
   ]
  },
  {
   "cell_type": "code",
   "execution_count": 6,
   "id": "01159753",
   "metadata": {},
   "outputs": [],
   "source": [
    "def obj_grad(x):\n",
    "    T1, T2, T3, S1, S2 = np.split(x, 5)\n",
    "    n_dv = 15\n",
    "    intersect, _ = py_segment_triangle_intersection(T1, T2, T3, S1, S2)\n",
    "    if not intersect:\n",
    "        return np.zeros((3, n_dv))\n",
    "    T1_grad = np.zeros((3, n_dv))\n",
    "    T1_grad[0, 0] = 1.\n",
    "    T1_grad[1, 1] = 1.\n",
    "    T1_grad[2, 2] = 1.\n",
    "    T2_grad = np.zeros((3, n_dv))\n",
    "    T2_grad[0, 3] = 1.\n",
    "    T2_grad[1, 4] = 1.\n",
    "    T2_grad[2, 5] = 1.\n",
    "    T3_grad = np.zeros((3, n_dv))\n",
    "    T3_grad[0, 6] = 1.\n",
    "    T3_grad[1, 7] = 1.\n",
    "    T3_grad[2, 8] = 1.\n",
    "    S1_grad = np.zeros((3, n_dv))\n",
    "    S1_grad[0, 9] = 1.\n",
    "    S1_grad[1, 10] = 1.\n",
    "    S1_grad[2, 11] = 1.\n",
    "    S2_grad = np.zeros((3, n_dv))\n",
    "    S2_grad[0, 12] = 1.\n",
    "    S2_grad[1, 13] = 1.\n",
    "    S2_grad[2, 14] = 1.\n",
    "    return py_segment_triangle_intersection_grad(T1, T2, T3, T1_grad, T2_grad, T3_grad, S1, S2, S1_grad, S2_grad)"
   ]
  },
  {
   "cell_type": "code",
   "execution_count": 8,
   "id": "a86ee341",
   "metadata": {},
   "outputs": [
    {
     "data": {
      "text/plain": [
       "array([[0. , 0. , 0. , 0. , 0. , 0. , 0. , 0. , 0. , 0.5, 0. , 0. , 0.5,\n",
       "        0. , 0. ],\n",
       "       [0. , 0. , 0. , 0. , 0. , 0. , 0. , 0. , 0. , 0. , 0.5, 0. , 0. ,\n",
       "        0.5, 0. ],\n",
       "       [0. , 0. , 0.6, 0. , 0. , 0.2, 0. , 0. , 0.2, 0. , 0. , 0. , 0. ,\n",
       "        0. , 0. ]])"
      ]
     },
     "execution_count": 8,
     "metadata": {},
     "output_type": "execute_result"
    }
   ],
   "source": [
    "obj_grad(x0)"
   ]
  },
  {
   "cell_type": "code",
   "execution_count": 15,
   "id": "5b3e6af1",
   "metadata": {},
   "outputs": [
    {
     "name": "stdout",
     "output_type": "stream",
     "text": [
      "1.549547557689412e-05\n"
     ]
    }
   ],
   "source": [
    "from scipy.optimize import check_grad\n",
    "err_grad = check_grad(obj, obj_grad, x0, epsilon=0.005)\n",
    "print(err_grad)"
   ]
  },
  {
   "cell_type": "code",
   "execution_count": 19,
   "id": "c589dfcc",
   "metadata": {},
   "outputs": [
    {
     "name": "stdout",
     "output_type": "stream",
     "text": [
      "[[ 0.00000000e+00  0.00000000e+00  0.00000000e+00  0.00000000e+00\n",
      "   0.00000000e+00  0.00000000e+00  0.00000000e+00  0.00000000e+00\n",
      "   0.00000000e+00  5.00000000e-01  0.00000000e+00  0.00000000e+00\n",
      "   5.00000000e-01  0.00000000e+00  0.00000000e+00]\n",
      " [ 0.00000000e+00  0.00000000e+00  0.00000000e+00  0.00000000e+00\n",
      "   0.00000000e+00  0.00000000e+00  0.00000000e+00  0.00000000e+00\n",
      "   0.00000000e+00  0.00000000e+00  5.00000000e-01  0.00000000e+00\n",
      "   0.00000000e+00  5.00000000e-01  0.00000000e+00]\n",
      " [-5.96046448e-06 -5.96046448e-06  6.00004196e-01  0.00000000e+00\n",
      "   0.00000000e+00  1.99997425e-01  0.00000000e+00  0.00000000e+00\n",
      "   1.99997425e-01  0.00000000e+00  0.00000000e+00  3.66568566e-06\n",
      "   0.00000000e+00  0.00000000e+00 -1.57952310e-06]]\n"
     ]
    }
   ],
   "source": [
    "from scipy.optimize import approx_fprime\n",
    "fd_grad = approx_fprime(x0, obj, epsilon=0.01)\n",
    "print(fd_grad)"
   ]
  },
  {
   "cell_type": "code",
   "execution_count": 34,
   "id": "25214784",
   "metadata": {},
   "outputs": [
    {
     "name": "stdout",
     "output_type": "stream",
     "text": [
      "9 [0.63245695 0.38177266 0.39637065]\n",
      "[0.55688136 0.01291897 0.21998288 0.17329453 0.00512863 0.76124447\n",
      " 0.83138717 0.84617864 0.47039368 0.6646841  0.31713825 0.39706148\n",
      " 0.38893272 0.87018217 0.39115043]\n"
     ]
    }
   ],
   "source": [
    "for tirage in range(10000):\n",
    "    x1 = np.random.rand(15)\n",
    "    I = obj(x1)\n",
    "    if np.abs(I).max()>1e-4:\n",
    "        break\n",
    "\n",
    "print(tirage, I)\n",
    "print(x1)\n",
    "    "
   ]
  },
  {
   "cell_type": "code",
   "execution_count": 35,
   "id": "491d2e86",
   "metadata": {},
   "outputs": [
    {
     "data": {
      "text/plain": [
       "array([[ 2.07627687e-01, -1.12134594e-01,  1.45529778e-01,\n",
       "         5.74618163e-02, -3.10337105e-02,  4.02759661e-02,\n",
       "         2.11510818e-01, -1.14231777e-01,  1.48251532e-01,\n",
       "         4.62229809e-01,  2.27317658e-01, -2.95015902e-01,\n",
       "         6.11698706e-02,  3.00824239e-02, -3.90413729e-02],\n",
       "       [-4.16415786e-01,  2.24895899e-01, -2.91872909e-01,\n",
       "        -1.15244782e-01,  6.22408657e-02, -8.07770312e-02,\n",
       "        -4.24203751e-01,  2.29101985e-01, -2.97331628e-01,\n",
       "         8.44152173e-01,  4.27223934e-01,  5.91680623e-01,\n",
       "         1.11712147e-01,  5.65373156e-02,  7.83009448e-02],\n",
       "       [ 4.45073589e-03, -2.40373272e-03,  3.11959650e-03,\n",
       "         1.23175946e-03, -6.65242923e-04,  8.63361196e-04,\n",
       "         4.53397523e-03, -2.44868821e-03,  3.17794039e-03,\n",
       "        -9.02246863e-03,  4.87281284e-03,  8.76805707e-01,\n",
       "        -1.19400195e-03,  6.44851012e-04,  1.16033395e-01]])"
      ]
     },
     "execution_count": 35,
     "metadata": {},
     "output_type": "execute_result"
    }
   ],
   "source": [
    "obj_grad(x1)"
   ]
  },
  {
   "cell_type": "code",
   "execution_count": null,
   "id": "8dd26d90",
   "metadata": {},
   "outputs": [
    {
     "data": {
      "text/plain": [
       "array([[ 2.07749783e-01, -1.12172022e-01,  1.45861842e-01,\n",
       "         5.74933488e-02, -3.10436142e-02,  4.02190465e-02,\n",
       "         2.11271210e-01, -1.14166949e-01,  1.48130019e-01,\n",
       "         4.61432396e-01,  2.27528531e-01, -2.94659576e-01,\n",
       "         6.12742621e-02,  3.00512869e-02, -3.90890671e-02],\n",
       "       [-4.16660662e-01,  2.24970963e-01, -2.92538894e-01,\n",
       "        -1.15308023e-01,  6.22607285e-02, -8.06628737e-02,\n",
       "        -4.23723196e-01,  2.28971967e-01, -2.97087924e-01,\n",
       "         8.42695458e-01,  4.27626131e-01,  5.90965979e-01,\n",
       "         1.11908612e-01,  5.64907840e-02,  7.83965997e-02],\n",
       "       [ 4.45335317e-03, -2.40453502e-03,  3.12671468e-03,\n",
       "         1.23243540e-03, -6.65455220e-04,  8.62141058e-04,\n",
       "         4.52883896e-03, -2.44729855e-03,  3.17533563e-03,\n",
       "        -9.00689897e-03,  4.87733315e-03,  8.75744775e-01,\n",
       "        -1.19610181e-03,  6.44183554e-04,  1.16174128e-01]])"
      ]
     },
     "execution_count": 37,
     "metadata": {},
     "output_type": "execute_result"
    }
   ],
   "source": [
    "approx_fprime(x1, obj, epsilon=0.001)"
   ]
  },
  {
   "cell_type": "code",
   "execution_count": 50,
   "id": "1b0d8c23",
   "metadata": {},
   "outputs": [
    {
     "data": {
      "text/plain": [
       "np.float64(0.00026195297000087447)"
      ]
     },
     "execution_count": 50,
     "metadata": {},
     "output_type": "execute_result"
    }
   ],
   "source": [
    "check_grad(obj, obj_grad, x1, epsilon=0.0001)"
   ]
  }
 ],
 "metadata": {
  "kernelspec": {
   "display_name": ".venv",
   "language": "python",
   "name": "python3"
  },
  "language_info": {
   "codemirror_mode": {
    "name": "ipython",
    "version": 3
   },
   "file_extension": ".py",
   "mimetype": "text/x-python",
   "name": "python",
   "nbconvert_exporter": "python",
   "pygments_lexer": "ipython3",
   "version": "3.11.11"
  }
 },
 "nbformat": 4,
 "nbformat_minor": 5
}
